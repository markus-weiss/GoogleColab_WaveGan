{
  "nbformat": 4,
  "nbformat_minor": 0,
  "metadata": {
    "colab": {
      "name": "Untitled2.ipynb",
      "version": "0.3.2",
      "provenance": [],
      "include_colab_link": true
    },
    "kernelspec": {
      "name": "python2",
      "display_name": "Python 2"
    }
  },
  "cells": [
    {
      "cell_type": "markdown",
      "metadata": {
        "id": "view-in-github",
        "colab_type": "text"
      },
      "source": [
        "<a href=\"https://colab.research.google.com/github/markus-weiss/GoogleColab_WaveGan/blob/master/loader.ipynb\" target=\"_parent\"><img src=\"https://colab.research.google.com/assets/colab-badge.svg\" alt=\"Open In Colab\"/></a>"
      ]
    },
    {
      "metadata": {
        "id": "mlmCuVXfCf5w",
        "colab_type": "code",
        "colab": {}
      },
      "cell_type": "code",
      "source": [
        "import tensorflow as tf\n",
        "\n",
        "\n",
        "\"\"\"\n",
        "  Data loader\n",
        "  fps: List of tfrecords\n",
        "  batch_size: Resultant batch size\n",
        "  window_len: Size of slice to take from each example\n",
        "  first_window: If true, always take the first window in the example, otherwise take a random window\n",
        "  repeat: If false, only iterate through dataset once\n",
        "  labels: If true, return (x, y), else return x\n",
        "  buffer_size: Number of examples to queue up (larger = more random)\n",
        "\"\"\"\n",
        "def get_batch(\n",
        "    fps,\n",
        "    batch_size,\n",
        "    window_len,\n",
        "    first_window=False,\n",
        "    repeat=True,\n",
        "    labels=False,\n",
        "    buffer_size=8192):\n",
        "  def _mapper(example_proto):\n",
        "    features = {'samples': tf.FixedLenSequenceFeature([1], tf.float32, allow_missing=True)}\n",
        "    if labels:\n",
        "      features['label'] = tf.FixedLenSequenceFeature([], tf.string, allow_missing=True)\n",
        "\n",
        "    example = tf.parse_single_example(example_proto, features)\n",
        "    wav = example['samples']\n",
        "    if labels:\n",
        "      label = tf.reduce_join(example['label'], 0)\n",
        "\n",
        "    if first_window:\n",
        "      # Use first window\n",
        "      wav = wav[:window_len]\n",
        "    else:\n",
        "      # Select random window\n",
        "      wav_len = tf.shape(wav)[0]\n",
        "\n",
        "      start_max = wav_len - window_len\n",
        "      start_max = tf.maximum(start_max, 0)\n",
        "\n",
        "      start = tf.random_uniform([], maxval=start_max + 1, dtype=tf.int32)\n",
        "\n",
        "      wav = wav[start:start+window_len]\n",
        "\n",
        "    wav = tf.pad(wav, [[0, window_len - tf.shape(wav)[0]], [0, 0]])\n",
        "\n",
        "    wav.set_shape([window_len, 1])\n",
        "\n",
        "    if labels:\n",
        "      return wav, label\n",
        "    else:\n",
        "      return wav\n",
        "\n",
        "  dataset = tf.data.TFRecordDataset(fps)\n",
        "  dataset = dataset.map(_mapper)\n",
        "  if repeat:\n",
        "    dataset = dataset.shuffle(buffer_size=buffer_size)\n",
        "  dataset = dataset.apply(tf.contrib.data.batch_and_drop_remainder(batch_size))\n",
        "  if repeat:\n",
        "    dataset = dataset.repeat()\n",
        "  iterator = dataset.make_one_shot_iterator()\n",
        "\n",
        "  return iterator.get_next()\n"
      ],
      "execution_count": 0,
      "outputs": []
    }
  ]
}